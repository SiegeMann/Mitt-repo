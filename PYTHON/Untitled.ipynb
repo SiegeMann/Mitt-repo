{
 "cells": [
  {
   "cell_type": "code",
   "execution_count": 1,
   "metadata": {},
   "outputs": [
    {
     "name": "stdout",
     "output_type": "stream",
     "text": [
      "Requirement already satisfied: discord.py[voice] in c:\\programdata\\anaconda3\\lib\\site-packages (1.7.3)\n",
      "Requirement already satisfied: aiohttp<3.8.0,>=3.6.0 in c:\\programdata\\anaconda3\\lib\\site-packages (from discord.py[voice]) (3.7.4.post0)\n",
      "Requirement already satisfied: PyNaCl<1.5,>=1.3.0; extra == \"voice\" in c:\\programdata\\anaconda3\\lib\\site-packages (from discord.py[voice]) (1.3.0)\n",
      "Requirement already satisfied: yarl<2.0,>=1.0 in c:\\programdata\\anaconda3\\lib\\site-packages (from aiohttp<3.8.0,>=3.6.0->discord.py[voice]) (1.6.3)\n",
      "Requirement already satisfied: multidict<7.0,>=4.5 in c:\\programdata\\anaconda3\\lib\\site-packages (from aiohttp<3.8.0,>=3.6.0->discord.py[voice]) (5.1.0)\n",
      "Requirement already satisfied: chardet<5.0,>=2.0 in c:\\programdata\\anaconda3\\lib\\site-packages (from aiohttp<3.8.0,>=3.6.0->discord.py[voice]) (3.0.4)\n",
      "Requirement already satisfied: attrs>=17.3.0 in c:\\programdata\\anaconda3\\lib\\site-packages (from aiohttp<3.8.0,>=3.6.0->discord.py[voice]) (19.3.0)\n",
      "Requirement already satisfied: async-timeout<4.0,>=3.0 in c:\\programdata\\anaconda3\\lib\\site-packages (from aiohttp<3.8.0,>=3.6.0->discord.py[voice]) (3.0.1)\n",
      "Requirement already satisfied: typing-extensions>=3.6.5 in c:\\programdata\\anaconda3\\lib\\site-packages (from aiohttp<3.8.0,>=3.6.0->discord.py[voice]) (3.10.0.2)\n",
      "Requirement already satisfied: six in c:\\programdata\\anaconda3\\lib\\site-packages (from PyNaCl<1.5,>=1.3.0; extra == \"voice\"->discord.py[voice]) (1.14.0)\n",
      "Requirement already satisfied: cffi>=1.4.1 in c:\\programdata\\anaconda3\\lib\\site-packages (from PyNaCl<1.5,>=1.3.0; extra == \"voice\"->discord.py[voice]) (1.14.0)\n",
      "Requirement already satisfied: idna>=2.0 in c:\\programdata\\anaconda3\\lib\\site-packages (from yarl<2.0,>=1.0->aiohttp<3.8.0,>=3.6.0->discord.py[voice]) (2.8)\n",
      "Requirement already satisfied: pycparser in c:\\programdata\\anaconda3\\lib\\site-packages (from cffi>=1.4.1->PyNaCl<1.5,>=1.3.0; extra == \"voice\"->discord.py[voice]) (2.19)\n"
     ]
    }
   ],
   "source": [
    "import sys\n",
    "!{sys.executable} -m pip install discord.py[voice]"
   ]
  },
  {
   "cell_type": "code",
   "execution_count": 2,
   "metadata": {},
   "outputs": [
    {
     "name": "stdout",
     "output_type": "stream",
     "text": [
      "Requirement already satisfied: aiohttp in c:\\programdata\\anaconda3\\lib\\site-packages (3.7.4.post0)\n",
      "Requirement already satisfied: multidict<7.0,>=4.5 in c:\\programdata\\anaconda3\\lib\\site-packages (from aiohttp) (5.1.0)\n",
      "Requirement already satisfied: yarl<2.0,>=1.0 in c:\\programdata\\anaconda3\\lib\\site-packages (from aiohttp) (1.6.3)\n",
      "Requirement already satisfied: chardet<5.0,>=2.0 in c:\\programdata\\anaconda3\\lib\\site-packages (from aiohttp) (3.0.4)\n",
      "Requirement already satisfied: attrs>=17.3.0 in c:\\programdata\\anaconda3\\lib\\site-packages (from aiohttp) (19.3.0)\n",
      "Requirement already satisfied: async-timeout<4.0,>=3.0 in c:\\programdata\\anaconda3\\lib\\site-packages (from aiohttp) (3.0.1)\n",
      "Requirement already satisfied: typing-extensions>=3.6.5 in c:\\programdata\\anaconda3\\lib\\site-packages (from aiohttp) (3.10.0.2)\n",
      "Requirement already satisfied: idna>=2.0 in c:\\programdata\\anaconda3\\lib\\site-packages (from yarl<2.0,>=1.0->aiohttp) (2.8)\n"
     ]
    }
   ],
   "source": [
    "import sys\n",
    "!{sys.executable} -m pip install aiohttp"
   ]
  },
  {
   "cell_type": "code",
   "execution_count": 5,
   "metadata": {},
   "outputs": [
    {
     "name": "stdout",
     "output_type": "stream",
     "text": [
      "Requirement already satisfied: tekore in c:\\programdata\\anaconda3\\lib\\site-packages (4.0.0)\n",
      "Requirement already satisfied: httpx<0.20,>=0.15 in c:\\programdata\\anaconda3\\lib\\site-packages (from tekore) (0.19.0)\n",
      "Requirement already satisfied: httpcore<0.14.0,>=0.13.3 in c:\\programdata\\anaconda3\\lib\\site-packages (from httpx<0.20,>=0.15->tekore) (0.13.7)\n",
      "Requirement already satisfied: charset-normalizer in c:\\programdata\\anaconda3\\lib\\site-packages (from httpx<0.20,>=0.15->tekore) (2.0.5)\n",
      "Requirement already satisfied: rfc3986[idna2008]<2,>=1.3 in c:\\programdata\\anaconda3\\lib\\site-packages (from httpx<0.20,>=0.15->tekore) (1.5.0)\n",
      "Requirement already satisfied: sniffio in c:\\programdata\\anaconda3\\lib\\site-packages (from httpx<0.20,>=0.15->tekore) (1.2.0)\n",
      "Requirement already satisfied: certifi in c:\\programdata\\anaconda3\\lib\\site-packages (from httpx<0.20,>=0.15->tekore) (2019.11.28)\n",
      "Requirement already satisfied: anyio==3.* in c:\\programdata\\anaconda3\\lib\\site-packages (from httpcore<0.14.0,>=0.13.3->httpx<0.20,>=0.15->tekore) (3.3.1)\n",
      "Requirement already satisfied: h11<0.13,>=0.11 in c:\\programdata\\anaconda3\\lib\\site-packages (from httpcore<0.14.0,>=0.13.3->httpx<0.20,>=0.15->tekore) (0.12.0)\n",
      "Requirement already satisfied: idna; extra == \"idna2008\" in c:\\programdata\\anaconda3\\lib\\site-packages (from rfc3986[idna2008]<2,>=1.3->httpx<0.20,>=0.15->tekore) (2.8)\n",
      "Requirement already satisfied: typing-extensions; python_version < \"3.8\" in c:\\programdata\\anaconda3\\lib\\site-packages (from anyio==3.*->httpcore<0.14.0,>=0.13.3->httpx<0.20,>=0.15->tekore) (3.10.0.2)\n"
     ]
    }
   ],
   "source": [
    "import sys\n",
    "!{sys.executable} -m pip install tekore"
   ]
  },
  {
   "cell_type": "code",
   "execution_count": 6,
   "metadata": {},
   "outputs": [
    {
     "name": "stdout",
     "output_type": "stream",
     "text": [
      "Collecting soundcloud-lib\n",
      "  Downloading soundcloud-lib-0.5.4.tar.gz (7.0 kB)\n",
      "Collecting mutagen\n",
      "  Downloading mutagen-1.45.1-py3-none-any.whl (218 kB)\n",
      "Collecting bs4\n",
      "  Downloading bs4-0.0.1.tar.gz (1.1 kB)\n",
      "Requirement already satisfied: aiohttp in c:\\programdata\\anaconda3\\lib\\site-packages (from soundcloud-lib) (3.7.4.post0)\n",
      "Requirement already satisfied: beautifulsoup4 in c:\\programdata\\anaconda3\\lib\\site-packages (from bs4->soundcloud-lib) (4.8.2)\n",
      "Requirement already satisfied: attrs>=17.3.0 in c:\\programdata\\anaconda3\\lib\\site-packages (from aiohttp->soundcloud-lib) (19.3.0)\n",
      "Requirement already satisfied: chardet<5.0,>=2.0 in c:\\programdata\\anaconda3\\lib\\site-packages (from aiohttp->soundcloud-lib) (3.0.4)\n",
      "Requirement already satisfied: multidict<7.0,>=4.5 in c:\\programdata\\anaconda3\\lib\\site-packages (from aiohttp->soundcloud-lib) (5.1.0)\n",
      "Requirement already satisfied: typing-extensions>=3.6.5 in c:\\programdata\\anaconda3\\lib\\site-packages (from aiohttp->soundcloud-lib) (3.10.0.2)\n",
      "Requirement already satisfied: yarl<2.0,>=1.0 in c:\\programdata\\anaconda3\\lib\\site-packages (from aiohttp->soundcloud-lib) (1.6.3)\n",
      "Requirement already satisfied: async-timeout<4.0,>=3.0 in c:\\programdata\\anaconda3\\lib\\site-packages (from aiohttp->soundcloud-lib) (3.0.1)\n",
      "Requirement already satisfied: soupsieve>=1.2 in c:\\programdata\\anaconda3\\lib\\site-packages (from beautifulsoup4->bs4->soundcloud-lib) (1.9.5)\n",
      "Requirement already satisfied: idna>=2.0 in c:\\programdata\\anaconda3\\lib\\site-packages (from yarl<2.0,>=1.0->aiohttp->soundcloud-lib) (2.8)\n",
      "Building wheels for collected packages: soundcloud-lib, bs4\n",
      "  Building wheel for soundcloud-lib (setup.py): started\n",
      "  Building wheel for soundcloud-lib (setup.py): finished with status 'done'\n",
      "  Created wheel for soundcloud-lib: filename=soundcloud_lib-0.5.4-py3-none-any.whl size=8217 sha256=8ae43516ecd49e9d7924fee5c7a17f0f22be8921550ca948567c60b117990e69\n",
      "  Stored in directory: c:\\users\\wista002\\appdata\\local\\pip\\cache\\wheels\\e3\\3e\\87\\9cc85e4017ad772cd3b9c725d5d5a5fce64515a066c3d088a2\n",
      "  Building wheel for bs4 (setup.py): started\n",
      "  Building wheel for bs4 (setup.py): finished with status 'done'\n",
      "  Created wheel for bs4: filename=bs4-0.0.1-py3-none-any.whl size=1279 sha256=9b69f850f24d9442d153c77bda18bd66ab268b0292fcf4aff4e5868fa8b4afba\n",
      "  Stored in directory: c:\\users\\wista002\\appdata\\local\\pip\\cache\\wheels\\0a\\9e\\ba\\20e5bbc1afef3a491f0b3bb74d508f99403aabe76eda2167ca\n",
      "Successfully built soundcloud-lib bs4\n",
      "Installing collected packages: mutagen, bs4, soundcloud-lib\n",
      "Successfully installed bs4-0.0.1 mutagen-1.45.1 soundcloud-lib-0.5.4\n"
     ]
    }
   ],
   "source": [
    "import sys\n",
    "!{sys.executable} -m pip install soundcloud-lib"
   ]
  },
  {
   "cell_type": "code",
   "execution_count": 7,
   "metadata": {},
   "outputs": [
    {
     "name": "stdout",
     "output_type": "stream",
     "text": [
      "Collecting mysql-connector-python\n",
      "  Downloading mysql_connector_python-8.0.26-py2.py3-none-any.whl (324 kB)\n",
      "Collecting protobuf>=3.0.0\n",
      "  Downloading protobuf-3.18.0-cp37-cp37m-win32.whl (794 kB)\n",
      "Installing collected packages: protobuf, mysql-connector-python\n",
      "Successfully installed mysql-connector-python-8.0.26 protobuf-3.18.0\n"
     ]
    }
   ],
   "source": [
    "import sys\n",
    "!{sys.executable} -m pip install mysql-connector-python"
   ]
  },
  {
   "cell_type": "code",
   "execution_count": 8,
   "metadata": {},
   "outputs": [
    {
     "name": "stdout",
     "output_type": "stream",
     "text": [
      "Collecting dblpy\n",
      "  Downloading dblpy-0.4.0-py3-none-any.whl (13 kB)\n",
      "Requirement already satisfied: aiohttp in c:\\programdata\\anaconda3\\lib\\site-packages (from dblpy) (3.7.4.post0)\n",
      "Requirement already satisfied: discord.py in c:\\programdata\\anaconda3\\lib\\site-packages (from dblpy) (1.7.3)\n",
      "Collecting ratelimiter\n",
      "  Downloading ratelimiter-1.2.0.post0-py3-none-any.whl (6.6 kB)\n",
      "Requirement already satisfied: chardet<5.0,>=2.0 in c:\\programdata\\anaconda3\\lib\\site-packages (from aiohttp->dblpy) (3.0.4)\n",
      "Requirement already satisfied: yarl<2.0,>=1.0 in c:\\programdata\\anaconda3\\lib\\site-packages (from aiohttp->dblpy) (1.6.3)\n",
      "Requirement already satisfied: typing-extensions>=3.6.5 in c:\\programdata\\anaconda3\\lib\\site-packages (from aiohttp->dblpy) (3.10.0.2)\n",
      "Requirement already satisfied: attrs>=17.3.0 in c:\\programdata\\anaconda3\\lib\\site-packages (from aiohttp->dblpy) (19.3.0)\n",
      "Requirement already satisfied: async-timeout<4.0,>=3.0 in c:\\programdata\\anaconda3\\lib\\site-packages (from aiohttp->dblpy) (3.0.1)\n",
      "Requirement already satisfied: multidict<7.0,>=4.5 in c:\\programdata\\anaconda3\\lib\\site-packages (from aiohttp->dblpy) (5.1.0)\n",
      "Requirement already satisfied: idna>=2.0 in c:\\programdata\\anaconda3\\lib\\site-packages (from yarl<2.0,>=1.0->aiohttp->dblpy) (2.8)\n",
      "Installing collected packages: ratelimiter, dblpy\n",
      "Successfully installed dblpy-0.4.0 ratelimiter-1.2.0.post0\n"
     ]
    }
   ],
   "source": [
    "import sys\n",
    "!{sys.executable} -m pip install dblpy"
   ]
  },
  {
   "cell_type": "code",
   "execution_count": 9,
   "metadata": {},
   "outputs": [
    {
     "name": "stdout",
     "output_type": "stream",
     "text": [
      "Collecting wavelink\n",
      "  Downloading wavelink-0.9.10-py3-none-any.whl (27 kB)\n",
      "Requirement already satisfied: discord.py>=1.2.5 in c:\\programdata\\anaconda3\\lib\\site-packages (from wavelink) (1.7.3)\n",
      "Requirement already satisfied: aiohttp<3.8.0,>=3.6.0 in c:\\programdata\\anaconda3\\lib\\site-packages (from wavelink) (3.7.4.post0)\n",
      "Requirement already satisfied: async-timeout<4.0,>=3.0 in c:\\programdata\\anaconda3\\lib\\site-packages (from aiohttp<3.8.0,>=3.6.0->wavelink) (3.0.1)\n",
      "Requirement already satisfied: attrs>=17.3.0 in c:\\programdata\\anaconda3\\lib\\site-packages (from aiohttp<3.8.0,>=3.6.0->wavelink) (19.3.0)\n",
      "Requirement already satisfied: multidict<7.0,>=4.5 in c:\\programdata\\anaconda3\\lib\\site-packages (from aiohttp<3.8.0,>=3.6.0->wavelink) (5.1.0)\n",
      "Requirement already satisfied: chardet<5.0,>=2.0 in c:\\programdata\\anaconda3\\lib\\site-packages (from aiohttp<3.8.0,>=3.6.0->wavelink) (3.0.4)\n",
      "Requirement already satisfied: typing-extensions>=3.6.5 in c:\\programdata\\anaconda3\\lib\\site-packages (from aiohttp<3.8.0,>=3.6.0->wavelink) (3.10.0.2)\n",
      "Requirement already satisfied: yarl<2.0,>=1.0 in c:\\programdata\\anaconda3\\lib\\site-packages (from aiohttp<3.8.0,>=3.6.0->wavelink) (1.6.3)\n",
      "Requirement already satisfied: idna>=2.0 in c:\\programdata\\anaconda3\\lib\\site-packages (from yarl<2.0,>=1.0->aiohttp<3.8.0,>=3.6.0->wavelink) (2.8)\n",
      "Installing collected packages: wavelink\n",
      "Successfully installed wavelink-0.9.10\n"
     ]
    }
   ],
   "source": [
    "import sys\n",
    "!{sys.executable} -m pip install wavelink"
   ]
  },
  {
   "cell_type": "code",
   "execution_count": 10,
   "metadata": {},
   "outputs": [
    {
     "name": "stdout",
     "output_type": "stream",
     "text": [
      "Collecting youtube-search-python\n",
      "  Downloading youtube_search_python-1.4.8-py3-none-any.whl (75 kB)\n",
      "Requirement already satisfied: httpx in c:\\programdata\\anaconda3\\lib\\site-packages (from youtube-search-python) (0.19.0)\n",
      "Requirement already satisfied: rfc3986[idna2008]<2,>=1.3 in c:\\programdata\\anaconda3\\lib\\site-packages (from httpx->youtube-search-python) (1.5.0)\n",
      "Requirement already satisfied: charset-normalizer in c:\\programdata\\anaconda3\\lib\\site-packages (from httpx->youtube-search-python) (2.0.5)\n",
      "Requirement already satisfied: httpcore<0.14.0,>=0.13.3 in c:\\programdata\\anaconda3\\lib\\site-packages (from httpx->youtube-search-python) (0.13.7)\n",
      "Requirement already satisfied: certifi in c:\\programdata\\anaconda3\\lib\\site-packages (from httpx->youtube-search-python) (2019.11.28)\n",
      "Requirement already satisfied: sniffio in c:\\programdata\\anaconda3\\lib\\site-packages (from httpx->youtube-search-python) (1.2.0)\n",
      "Requirement already satisfied: idna; extra == \"idna2008\" in c:\\programdata\\anaconda3\\lib\\site-packages (from rfc3986[idna2008]<2,>=1.3->httpx->youtube-search-python) (2.8)\n",
      "Requirement already satisfied: anyio==3.* in c:\\programdata\\anaconda3\\lib\\site-packages (from httpcore<0.14.0,>=0.13.3->httpx->youtube-search-python) (3.3.1)\n",
      "Requirement already satisfied: h11<0.13,>=0.11 in c:\\programdata\\anaconda3\\lib\\site-packages (from httpcore<0.14.0,>=0.13.3->httpx->youtube-search-python) (0.12.0)\n",
      "Requirement already satisfied: typing-extensions; python_version < \"3.8\" in c:\\programdata\\anaconda3\\lib\\site-packages (from anyio==3.*->httpcore<0.14.0,>=0.13.3->httpx->youtube-search-python) (3.10.0.2)\n",
      "Installing collected packages: youtube-search-python\n",
      "Successfully installed youtube-search-python-1.4.8\n"
     ]
    }
   ],
   "source": [
    "import sys\n",
    "!{sys.executable} -m pip install youtube-search-python"
   ]
  },
  {
   "cell_type": "code",
   "execution_count": 11,
   "metadata": {},
   "outputs": [
    {
     "name": "stdout",
     "output_type": "stream",
     "text": [
      "Requirement already satisfied: psutil in c:\\programdata\\anaconda3\\lib\\site-packages (5.6.7)\n"
     ]
    }
   ],
   "source": [
    "import sys\n",
    "!{sys.executable} -m pip install psutil"
   ]
  },
  {
   "cell_type": "code",
   "execution_count": null,
   "metadata": {},
   "outputs": [],
   "source": []
  }
 ],
 "metadata": {
  "kernelspec": {
   "display_name": "Python 3",
   "language": "python",
   "name": "python3"
  },
  "language_info": {
   "codemirror_mode": {
    "name": "ipython",
    "version": 3
   },
   "file_extension": ".py",
   "mimetype": "text/x-python",
   "name": "python",
   "nbconvert_exporter": "python",
   "pygments_lexer": "ipython3",
   "version": "3.7.6"
  }
 },
 "nbformat": 4,
 "nbformat_minor": 4
}
