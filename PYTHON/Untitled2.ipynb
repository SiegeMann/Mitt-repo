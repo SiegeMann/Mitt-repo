{
 "cells": [
  {
   "cell_type": "code",
   "execution_count": 3,
   "metadata": {},
   "outputs": [
    {
     "name": "stdout",
     "output_type": "stream",
     "text": [
      "Collecting getkey\n",
      "  Using cached getkey-0.6.5.tar.gz (13 kB)\n",
      "Note: you may need to restart the kernel to use updated packages.\n"
     ]
    },
    {
     "name": "stderr",
     "output_type": "stream",
     "text": [
      "    ERROR: Command errored out with exit status 1:\n",
      "     command: 'C:\\ProgramData\\Anaconda3\\python.exe' -c 'import sys, setuptools, tokenize; sys.argv[0] = '\"'\"'C:\\\\Users\\\\wista002\\\\AppData\\\\Local\\\\Temp\\\\pip-install-de0fdg5n\\\\getkey\\\\setup.py'\"'\"'; __file__='\"'\"'C:\\\\Users\\\\wista002\\\\AppData\\\\Local\\\\Temp\\\\pip-install-de0fdg5n\\\\getkey\\\\setup.py'\"'\"';f=getattr(tokenize, '\"'\"'open'\"'\"', open)(__file__);code=f.read().replace('\"'\"'\\r\\n'\"'\"', '\"'\"'\\n'\"'\"');f.close();exec(compile(code, __file__, '\"'\"'exec'\"'\"'))' egg_info --egg-base 'C:\\Users\\wista002\\AppData\\Local\\Temp\\pip-install-de0fdg5n\\getkey\\pip-egg-info'\n",
      "         cwd: C:\\Users\\wista002\\AppData\\Local\\Temp\\pip-install-de0fdg5n\\getkey\\\n",
      "    Complete output (9 lines):\n",
      "    Traceback (most recent call last):\n",
      "      File \"<string>\", line 1, in <module>\n",
      "      File \"C:\\Users\\wista002\\AppData\\Local\\Temp\\pip-install-de0fdg5n\\getkey\\setup.py\", line 37, in <module>\n",
      "        long_description=read_description(),\n",
      "      File \"C:\\Users\\wista002\\AppData\\Local\\Temp\\pip-install-de0fdg5n\\getkey\\setup.py\", line 11, in read_description\n",
      "        return fd.read()\n",
      "      File \"C:\\ProgramData\\Anaconda3\\lib\\encodings\\cp1252.py\", line 23, in decode\n",
      "        return codecs.charmap_decode(input,self.errors,decoding_table)[0]\n",
      "    UnicodeDecodeError: 'charmap' codec can't decode byte 0x81 in position 876: character maps to <undefined>\n",
      "    ----------------------------------------\n",
      "ERROR: Command errored out with exit status 1: python setup.py egg_info Check the logs for full command output.\n"
     ]
    }
   ],
   "source": [
    "pip install getkey"
   ]
  },
  {
   "cell_type": "code",
   "execution_count": null,
   "metadata": {},
   "outputs": [],
   "source": []
  }
 ],
 "metadata": {
  "kernelspec": {
   "display_name": "Python 3",
   "language": "python",
   "name": "python3"
  },
  "language_info": {
   "codemirror_mode": {
    "name": "ipython",
    "version": 3
   },
   "file_extension": ".py",
   "mimetype": "text/x-python",
   "name": "python",
   "nbconvert_exporter": "python",
   "pygments_lexer": "ipython3",
   "version": "3.7.6"
  }
 },
 "nbformat": 4,
 "nbformat_minor": 4
}
